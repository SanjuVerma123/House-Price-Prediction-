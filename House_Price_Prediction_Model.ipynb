{
 "cells": [
  {
   "cell_type": "code",
   "execution_count": null,
   "id": "b78b7e6f-61e7-42ff-a4e4-528db5eb556e",
   "metadata": {},
   "outputs": [],
   "source": [
    "import pandas as pd\n",
    "import numpy as np\n",
    "import matplotlib.pyplot as plt\n",
    "import seaborn as sns\n",
    "from sklearn.preprocessing import StandardScaler\n",
    "from sklearn.model_selection import train_test_split\n",
    "from sklearn.metrics import mean_squared_error,r2_score,mean_absolute_error"
   ]
  },
  {
   "cell_type": "code",
   "execution_count": null,
   "id": "f1c6f84b-73ff-475a-a447-470a608fea67",
   "metadata": {},
   "outputs": [],
   "source": [
    "df = pd.read_csv(r'C:\\Users\\Hp\\Downloads\\ML_Data-20240722T104249Z-001 (1)\\ML_Data\\2. house_price_prediction\\House.csv')"
   ]
  },
  {
   "cell_type": "code",
   "execution_count": null,
   "id": "4fcfbadd-69a5-404d-9777-86575d6a4e4e",
   "metadata": {},
   "outputs": [],
   "source": [
    "df.head()"
   ]
  },
  {
   "cell_type": "code",
   "execution_count": null,
   "id": "1b8b4633-1b76-4847-901e-e65ffed0800e",
   "metadata": {},
   "outputs": [],
   "source": [
    "df.shape"
   ]
  },
  {
   "cell_type": "code",
   "execution_count": null,
   "id": "af2c6134-bdd4-42fb-a194-cf3c01cb2b90",
   "metadata": {},
   "outputs": [],
   "source": [
    "df['City'] = df['Address'].str.extract(r'([A-Za-z]+)')"
   ]
  },
  {
   "cell_type": "code",
   "execution_count": null,
   "id": "2d3ac116-6e78-49c7-a082-37b082cf7f49",
   "metadata": {},
   "outputs": [],
   "source": [
    "df.head()"
   ]
  },
  {
   "cell_type": "code",
   "execution_count": null,
   "id": "3befc3bd-cb87-44c8-a0c3-d8e454e08d60",
   "metadata": {},
   "outputs": [],
   "source": [
    "df = df.drop('Address',axis=1)\n",
    "df.head()"
   ]
  },
  {
   "cell_type": "code",
   "execution_count": null,
   "id": "12480605-82aa-4243-b093-30c51f6efe10",
   "metadata": {},
   "outputs": [],
   "source": [
    "df.isnull().sum().sum()"
   ]
  },
  {
   "cell_type": "code",
   "execution_count": null,
   "id": "12cbdd36-1b87-42c1-9739-8a2415a99474",
   "metadata": {},
   "outputs": [],
   "source": [
    "df.info()"
   ]
  },
  {
   "cell_type": "code",
   "execution_count": null,
   "id": "eb356746-1239-4cb2-841b-35291bbb3ff5",
   "metadata": {},
   "outputs": [],
   "source": [
    "df.describe()"
   ]
  },
  {
   "cell_type": "code",
   "execution_count": null,
   "id": "aa29e245-00db-4285-9f98-dbe84f51824a",
   "metadata": {},
   "outputs": [],
   "source": [
    "num_cols = df.select_dtypes(include=['int64','float64']).columns"
   ]
  },
  {
   "cell_type": "code",
   "execution_count": null,
   "id": "bfcaf4fb-b7f2-4451-9538-2f5cdca8c2e9",
   "metadata": {},
   "outputs": [],
   "source": [
    "# 1️⃣ Histogram\n",
    "df[num_cols].hist(bins=20, figsize=(12,8),color='red',alpha=0.8)\n",
    "plt.suptitle(\"Histograms of Numeric Columns\", fontsize=16)\n",
    "plt.show()"
   ]
  },
  {
   "cell_type": "code",
   "execution_count": null,
   "id": "b12ac3ba-0881-4fca-a618-e5db70a37f1a",
   "metadata": {},
   "outputs": [],
   "source": [
    "# 2️⃣ Boxplots\n",
    "plt.figure(figsize=(12,3))\n",
    "sns.boxplot(data=df[num_cols],color='red')\n",
    "plt.title(\"Boxplots of Numeric Columns (Outliers)\")\n",
    "plt.tight_layout()\n",
    "plt.show()"
   ]
  },
  {
   "cell_type": "code",
   "execution_count": null,
   "id": "d3c3174b-2503-46b1-8647-0b8db7a7c5ad",
   "metadata": {},
   "outputs": [],
   "source": [
    "sns.set(style=\"ticks\")  # optional styling\n",
    "pair_plot = sns.pairplot(df[num_cols])\n",
    "pair_plot.fig.suptitle(\"Pairplot of Numeric Columns\", y=1.02, fontsize=16)\n",
    "pair_plot.fig.set_size_inches(10,10)  # figure size adjust\n",
    "plt.show()"
   ]
  },
  {
   "cell_type": "code",
   "execution_count": null,
   "id": "d16b7efa-6b03-4605-a9d5-b5a0a16d14cf",
   "metadata": {},
   "outputs": [],
   "source": [
    "target = 'Price'\n",
    "features = [col for col in num_cols if col != target]\n",
    "\n",
    "plt.figure(figsize=(15,12))\n",
    "for i, col in enumerate(features):\n",
    "    plt.subplot(3,2,i+1)\n",
    "    sns.scatterplot(x=col, y=target, data=df,color='red',alpha=0.8)\n",
    "    plt.title(f'{col} vs {target}')\n",
    "plt.tight_layout()\n",
    "plt.show()\n"
   ]
  },
  {
   "cell_type": "code",
   "execution_count": null,
   "id": "c3f69726-d484-45f6-89bc-2ac9ac2a2aad",
   "metadata": {},
   "outputs": [],
   "source": [
    "num_cols = df.select_dtypes(include=['int64', 'float64']).columns\n",
    "\n",
    "# Loop through each numeric column\n",
    "for col in num_cols:\n",
    "    Q1 = df[col].quantile(0.25)\n",
    "    Q3 = df[col].quantile(0.75)\n",
    "    IQR = Q3 - Q1\n",
    "\n",
    "    lower = Q1 - 1.5 * IQR\n",
    "    upper = Q3 + 1.5 * IQR\n",
    "\n",
    "    # Filter out outliers\n",
    "    df = df[(df[col] >= lower) & (df[col] <= upper)]\n",
    "\n",
    "# Check first 5 rows\n",
    "df.head()\n"
   ]
  },
  {
   "cell_type": "code",
   "execution_count": null,
   "id": "aff02cb6-73a2-4faf-9b4a-c092017f41ae",
   "metadata": {},
   "outputs": [],
   "source": [
    "df.shape"
   ]
  },
  {
   "cell_type": "code",
   "execution_count": null,
   "id": "7038ae90-002c-4d71-881a-248de7c1954c",
   "metadata": {},
   "outputs": [],
   "source": []
  },
  {
   "cell_type": "code",
   "execution_count": null,
   "id": "98b026df-ed7c-4614-bb36-cf8caed3412b",
   "metadata": {},
   "outputs": [],
   "source": [
    "df = pd.get_dummies(df,columns=['City'],drop_first=True)"
   ]
  },
  {
   "cell_type": "code",
   "execution_count": null,
   "id": "9b4151e3-31b5-450a-a820-1dbc5dcd29b4",
   "metadata": {},
   "outputs": [],
   "source": [
    "df.head()"
   ]
  },
  {
   "cell_type": "code",
   "execution_count": null,
   "id": "efbffc62-b91f-4111-8362-658ed29311fb",
   "metadata": {},
   "outputs": [],
   "source": [
    "sns.heatmap(df.corr())"
   ]
  },
  {
   "cell_type": "code",
   "execution_count": null,
   "id": "359bc461-a4e0-45c9-a499-b85e1374cf3e",
   "metadata": {},
   "outputs": [],
   "source": [
    "x = df.drop('Price',axis=1)\n",
    "y = df['Price']"
   ]
  },
  {
   "cell_type": "code",
   "execution_count": null,
   "id": "9455f07f-2374-4f7e-9aec-9cefe231664b",
   "metadata": {},
   "outputs": [],
   "source": [
    "x"
   ]
  },
  {
   "cell_type": "code",
   "execution_count": null,
   "id": "0ba2246f-4516-4ba3-8ecc-3c4b1377863c",
   "metadata": {},
   "outputs": [],
   "source": [
    "y"
   ]
  },
  {
   "cell_type": "code",
   "execution_count": null,
   "id": "7866167b-c586-4e1a-ac98-6351e974b6a1",
   "metadata": {},
   "outputs": [],
   "source": [
    "x_train,x_test,y_train,y_test = train_test_split(x,y,test_size=0.2,random_state=12)"
   ]
  },
  {
   "cell_type": "code",
   "execution_count": null,
   "id": "23955724-9576-410c-be2d-b0ad126a48e1",
   "metadata": {},
   "outputs": [],
   "source": [
    "x_train.shape,x_test.shape"
   ]
  },
  {
   "cell_type": "code",
   "execution_count": null,
   "id": "0497f9c2-1db7-4c80-a55b-4242d27ff1bb",
   "metadata": {},
   "outputs": [],
   "source": [
    "y_train.shape,y_test.shape"
   ]
  },
  {
   "cell_type": "code",
   "execution_count": null,
   "id": "1b0e0710-eda7-42c2-ad04-8a31e71f9936",
   "metadata": {},
   "outputs": [],
   "source": [
    "sc = StandardScaler()"
   ]
  },
  {
   "cell_type": "code",
   "execution_count": null,
   "id": "5b84bcc0-2798-4448-b667-c20f60439d50",
   "metadata": {},
   "outputs": [],
   "source": [
    "x_train = sc.fit_transform(x_train)\n",
    "x_test = sc.transform(x_test)"
   ]
  },
  {
   "cell_type": "code",
   "execution_count": null,
   "id": "9e2c034a-d5f1-45b8-a39a-affa7452859d",
   "metadata": {},
   "outputs": [],
   "source": [
    "from sklearn.linear_model import LinearRegression, Ridge, Lasso, ElasticNet\n",
    "from sklearn.tree import DecisionTreeRegressor\n",
    "from sklearn.ensemble import RandomForestRegressor, GradientBoostingRegressor\n",
    "from sklearn.svm import SVR\n",
    "from sklearn.neighbors import KNeighborsRegressor\n",
    "# External libraries\n",
    "from xgboost import XGBRegressor"
   ]
  },
  {
   "cell_type": "code",
   "execution_count": null,
   "id": "b9e7e9b1-6aab-4697-9473-72f4422287e5",
   "metadata": {},
   "outputs": [],
   "source": [
    "model_list = [\n",
    "    (\"Linear Regression\", LinearRegression()),\n",
    "    (\"Ridge\", Ridge()),\n",
    "    (\"Lasso\", Lasso()),\n",
    "    (\"ElasticNet\", ElasticNet()),\n",
    "    (\"Decision Tree\", DecisionTreeRegressor()),\n",
    "    (\"Random Forest\", RandomForestRegressor()),\n",
    "    (\"Gradient Boosting\", GradientBoostingRegressor()),\n",
    "    (\"XGBoost\", XGBRegressor(verbosity=0)),\n",
    "    (\"SVR\", SVR()),\n",
    "    (\"KNN\", KNeighborsRegressor())\n",
    "]"
   ]
  },
  {
   "cell_type": "code",
   "execution_count": null,
   "id": "87c0e4a1-46bf-410c-a073-e197b8557ef7",
   "metadata": {},
   "outputs": [],
   "source": [
    "# Simple loop\n",
    "for i in range(len(model_list)):\n",
    "    name, model = model_list[i]\n",
    "    \n",
    "    model.fit(x_train, y_train)      # Train\n",
    "    y_pred = model.predict(x_test)   # Predict\n",
    "\n",
    "    r2 = r2_score(y_test, y_pred)\n",
    "    rmse = np.sqrt(mean_squared_error(y_test, y_pred))\n",
    "    mae = mean_absolute_error(y_test, y_pred)\n",
    "\n",
    "    print(f\"{i+1}. {name}: R2 = {r2:.4f}, RMSE = {rmse:.2f}, MAE = {mae:.2f}\")\n"
   ]
  },
  {
   "cell_type": "code",
   "execution_count": null,
   "id": "79e67ac6-c0a0-4474-ad58-6cfc5623e0b7",
   "metadata": {},
   "outputs": [],
   "source": [
    "gbr = GradientBoostingRegressor()"
   ]
  },
  {
   "cell_type": "code",
   "execution_count": null,
   "id": "0b93561b-e7ca-4116-98a0-b3a1bd06659d",
   "metadata": {},
   "outputs": [],
   "source": [
    "gbr.fit(x_train,y_train)"
   ]
  },
  {
   "cell_type": "code",
   "execution_count": null,
   "id": "91459f3b-415e-46eb-8a65-89a90d9bea67",
   "metadata": {},
   "outputs": [],
   "source": [
    "gbr.score(x_train,y_train)*100"
   ]
  },
  {
   "cell_type": "code",
   "execution_count": null,
   "id": "78d8a0c6-2937-4b0d-98ea-006894a8383b",
   "metadata": {},
   "outputs": [],
   "source": [
    "gbr.score(x_test,y_test)*100"
   ]
  },
  {
   "cell_type": "code",
   "execution_count": null,
   "id": "7cdf410f-f6a1-4cd3-b7cf-0515da44f312",
   "metadata": {},
   "outputs": [],
   "source": [
    "y_pred = gbr.predict(x_test)"
   ]
  },
  {
   "cell_type": "code",
   "execution_count": null,
   "id": "1a4fec68-3f14-4642-ab55-c0674a115fd1",
   "metadata": {},
   "outputs": [],
   "source": [
    "y_pred"
   ]
  },
  {
   "cell_type": "code",
   "execution_count": null,
   "id": "0400deb7-e14f-4beb-acda-d30f35ca5c51",
   "metadata": {},
   "outputs": [],
   "source": [
    "y_test"
   ]
  },
  {
   "cell_type": "code",
   "execution_count": null,
   "id": "0081dfcc-65e2-4af2-861f-7c8df7da2c88",
   "metadata": {},
   "outputs": [],
   "source": [
    "r2_score(y_test,y_pred)"
   ]
  },
  {
   "cell_type": "code",
   "execution_count": null,
   "id": "e4f8c9f4-9e56-47ae-a154-fe5cd74ece5c",
   "metadata": {},
   "outputs": [],
   "source": [
    "mean_squared_error(y_test,y_pred)"
   ]
  },
  {
   "cell_type": "code",
   "execution_count": null,
   "id": "7bb8aa19-72c8-4add-9c25-d4ea5b45bc9d",
   "metadata": {},
   "outputs": [],
   "source": []
  },
  {
   "cell_type": "code",
   "execution_count": null,
   "id": "2f763d93-582c-4791-ae2d-a201141d0232",
   "metadata": {},
   "outputs": [],
   "source": [
    "from joblib import dump, load\n",
    "\n",
    "# Save\n",
    "dump(gbr, 'gbr.joblib')\n",
    "print(\"GradientBoostingRegressor saved successfully!\")\n",
    "\n",
    "# Load\n",
    "loaded_model = load('gbr.joblib')\n",
    "y_pred = loaded_model.predict(x_test)\n"
   ]
  },
  {
   "cell_type": "code",
   "execution_count": null,
   "id": "2229e783-93cd-4c66-89dd-b244dad7d166",
   "metadata": {},
   "outputs": [],
   "source": [
    "y_pred"
   ]
  },
  {
   "cell_type": "code",
   "execution_count": null,
   "id": "1aeeb7a6-0adf-458c-9986-2005876a6f69",
   "metadata": {},
   "outputs": [],
   "source": [
    "y_test"
   ]
  },
  {
   "cell_type": "code",
   "execution_count": null,
   "id": "2b9f3d02-c8ff-45bd-8ebe-cfc68c7e5a26",
   "metadata": {},
   "outputs": [],
   "source": []
  },
  {
   "cell_type": "code",
   "execution_count": null,
   "id": "b0715cb4-79ba-4d71-8c6f-0540d0003547",
   "metadata": {},
   "outputs": [],
   "source": []
  },
  {
   "cell_type": "code",
   "execution_count": null,
   "id": "f867acc7-b9c2-446f-9a1e-7ebd4edbdce3",
   "metadata": {},
   "outputs": [],
   "source": []
  },
  {
   "cell_type": "code",
   "execution_count": null,
   "id": "504de6a9-bf5e-4036-86e8-5b8979171deb",
   "metadata": {},
   "outputs": [],
   "source": []
  },
  {
   "cell_type": "code",
   "execution_count": null,
   "id": "64d4d0ac-be4d-4ca8-a766-a91241363d41",
   "metadata": {},
   "outputs": [],
   "source": []
  },
  {
   "cell_type": "code",
   "execution_count": null,
   "id": "fef618f9-e68c-4ad3-9c17-49a364df5816",
   "metadata": {},
   "outputs": [],
   "source": []
  },
  {
   "cell_type": "code",
   "execution_count": null,
   "id": "f05b0b5c-a10d-4003-b455-78649f7948a3",
   "metadata": {},
   "outputs": [],
   "source": []
  },
  {
   "cell_type": "code",
   "execution_count": null,
   "id": "cd71086f-87a3-4dd4-a6da-60ff35ccca9d",
   "metadata": {},
   "outputs": [],
   "source": []
  }
 ],
 "metadata": {
  "kernelspec": {
   "display_name": "Python 3 (ipykernel)",
   "language": "python",
   "name": "python3"
  },
  "language_info": {
   "codemirror_mode": {
    "name": "ipython",
    "version": 3
   },
   "file_extension": ".py",
   "mimetype": "text/x-python",
   "name": "python",
   "nbconvert_exporter": "python",
   "pygments_lexer": "ipython3",
   "version": "3.12.7"
  }
 },
 "nbformat": 4,
 "nbformat_minor": 5
}
